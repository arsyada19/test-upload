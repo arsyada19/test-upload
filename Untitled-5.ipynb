{
 "cells": [
  {
   "cell_type": "code",
   "execution_count": 4,
   "metadata": {},
   "outputs": [
    {
     "data": {
      "text/html": [
       "<div>\n",
       "<style scoped>\n",
       "    .dataframe tbody tr th:only-of-type {\n",
       "        vertical-align: middle;\n",
       "    }\n",
       "\n",
       "    .dataframe tbody tr th {\n",
       "        vertical-align: top;\n",
       "    }\n",
       "\n",
       "    .dataframe thead th {\n",
       "        text-align: right;\n",
       "    }\n",
       "</style>\n",
       "<table border=\"1\" class=\"dataframe\">\n",
       "  <thead>\n",
       "    <tr style=\"text-align: right;\">\n",
       "      <th></th>\n",
       "      <th>Age</th>\n",
       "      <th>Gender</th>\n",
       "      <th>Education Level</th>\n",
       "      <th>Job Title</th>\n",
       "      <th>Years of Experience</th>\n",
       "      <th>Salary</th>\n",
       "    </tr>\n",
       "  </thead>\n",
       "  <tbody>\n",
       "    <tr>\n",
       "      <th>0</th>\n",
       "      <td>32.0</td>\n",
       "      <td>1</td>\n",
       "      <td>0</td>\n",
       "      <td>177</td>\n",
       "      <td>5.0</td>\n",
       "      <td>90000.0</td>\n",
       "    </tr>\n",
       "    <tr>\n",
       "      <th>1</th>\n",
       "      <td>28.0</td>\n",
       "      <td>0</td>\n",
       "      <td>3</td>\n",
       "      <td>18</td>\n",
       "      <td>3.0</td>\n",
       "      <td>65000.0</td>\n",
       "    </tr>\n",
       "    <tr>\n",
       "      <th>2</th>\n",
       "      <td>45.0</td>\n",
       "      <td>1</td>\n",
       "      <td>5</td>\n",
       "      <td>145</td>\n",
       "      <td>15.0</td>\n",
       "      <td>150000.0</td>\n",
       "    </tr>\n",
       "    <tr>\n",
       "      <th>3</th>\n",
       "      <td>36.0</td>\n",
       "      <td>0</td>\n",
       "      <td>0</td>\n",
       "      <td>116</td>\n",
       "      <td>7.0</td>\n",
       "      <td>60000.0</td>\n",
       "    </tr>\n",
       "    <tr>\n",
       "      <th>4</th>\n",
       "      <td>52.0</td>\n",
       "      <td>1</td>\n",
       "      <td>3</td>\n",
       "      <td>26</td>\n",
       "      <td>20.0</td>\n",
       "      <td>200000.0</td>\n",
       "    </tr>\n",
       "  </tbody>\n",
       "</table>\n",
       "</div>"
      ],
      "text/plain": [
       "    Age  Gender  Education Level  Job Title  Years of Experience    Salary\n",
       "0  32.0       1                0        177                  5.0   90000.0\n",
       "1  28.0       0                3         18                  3.0   65000.0\n",
       "2  45.0       1                5        145                 15.0  150000.0\n",
       "3  36.0       0                0        116                  7.0   60000.0\n",
       "4  52.0       1                3         26                 20.0  200000.0"
      ]
     },
     "execution_count": 4,
     "metadata": {},
     "output_type": "execute_result"
    }
   ],
   "source": [
    "import pandas as pd\n",
    "\n",
    "data = pd.read_csv(\"Salary_Data.csv\")\n",
    "#Jika ada kolom yang tipe datanya categorical (tulisan dsb / bukan angka) maka kolom tersebut \n",
    "#harus diconvert menjadi angka dengan metod encoder\n",
    "\n",
    "#merubah semua kolom kategorical menjadi numerical\n",
    "from sklearn.preprocessing import LabelEncoder\n",
    "# Mendeteksi kolom kategori\n",
    "categorical_cols = data.select_dtypes(include=['object']).columns\n",
    "\n",
    "# Membuat objek LabelEncoder\n",
    "label_encoders = {}\n",
    "\n",
    "# Mengubah kolom kategori menjadi numerik\n",
    "for col in categorical_cols:\n",
    "    label_encoders[col] = LabelEncoder()\n",
    "    data[col] = label_encoders[col].fit_transform(data[col])\n",
    "#penegecekan kembali data setelah diconvert menjadi angka\n",
    "data.head()\n",
    "\n",
    "#sehingga menjadi misalnya\n",
    "#gender : male = 1, female = 0"
   ]
  },
  {
   "cell_type": "code",
   "execution_count": null,
   "metadata": {},
   "outputs": [],
   "source": [
    "from sklearn.model_selection import train_test_split\n",
    "from sklearn.linear_model import LinearRegression #Y= aX + B\n",
    "from sklearn.metrics import mean_squared_error"
   ]
  },
  {
   "cell_type": "code",
   "execution_count": 23,
   "metadata": {},
   "outputs": [
    {
     "ename": "SyntaxError",
     "evalue": "invalid syntax (423421999.py, line 5)",
     "output_type": "error",
     "traceback": [
      "\u001b[1;36m  Cell \u001b[1;32mIn[23], line 5\u001b[1;36m\u001b[0m\n\u001b[1;33m    from sklearn.linear_model import Linear Regression #Y= ax + B\u001b[0m\n\u001b[1;37m                                            ^\u001b[0m\n\u001b[1;31mSyntaxError\u001b[0m\u001b[1;31m:\u001b[0m invalid syntax\n"
     ]
    }
   ],
   "source": [
    "\n",
    "In [22]: #bagi data menjadi variabel X dan Y\n",
    "x = data.iloc[:, [0,1,2,3,4]].values\n",
    "y = data.iloc[:, [5]].values\n",
    "In [25]: from sklearn.model_selection import train_test_split\n",
    "from sklearn.linear_model import Linear Regression #Y= ax + B\n",
    "from sklearn.metrics import mean_squared_error #menghitung error yang didapatkan dari model ML ((Ysebenarnya^2-Yprediksi^2)/banyc\n",
    "In [32]: # Split data into train and test sets\n",
    "X_train, X_test, y_train, y_test = train_test_split(x, y, test_size=0.25, random_state=42) #80% dijadikan data training, 20% test #Instantiate the model\n",
    "model = Linear Regression()\n",
    "# Train the model\n",
    "model.fit(X_train, y_train)\n",
    "# Make predictions\n",
    "y_pred = model.predict(X_test) #prediksi nilai temperatur\n",
    "#Evaluate the model\n",
    "mse = mean_squared_error(y_test, y_pred)\n",
    "print(\"Mean Squared Error:\", mse)\n",
    "Mean Squared Error: 904902593.3579634\n",
    "In [37]: prediksi = model.predict([[32,1,0,177,4]]) #predict one array only\n",
    "print(\"hasil prediksi salary\", (round(prediksi[0][0]),2))\n",
    "hasil prediksi salary (76536, 2)"
   ]
  }
 ],
 "metadata": {
  "kernelspec": {
   "display_name": "Python 3",
   "language": "python",
   "name": "python3"
  },
  "language_info": {
   "codemirror_mode": {
    "name": "ipython",
    "version": 3
   },
   "file_extension": ".py",
   "mimetype": "text/x-python",
   "name": "python",
   "nbconvert_exporter": "python",
   "pygments_lexer": "ipython3",
   "version": "3.13.0"
  }
 },
 "nbformat": 4,
 "nbformat_minor": 2
}
